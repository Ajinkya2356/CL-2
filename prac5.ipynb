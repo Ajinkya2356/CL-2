{
 "cells": [
  {
   "cell_type": "code",
   "execution_count": 4,
   "metadata": {},
   "outputs": [
    {
     "name": "stdout",
     "output_type": "stream",
     "text": [
      "     ┌───┐                                                                 »\n",
      "q_0: ┤ H ├─■────────■─────────────■─────────────────■──────────────────────»\n",
      "     └───┘ │P(π/2)  │       ┌───┐ │                 │                      »\n",
      "q_1: ──────■────────┼───────┤ H ├─┼────────■────────┼─────────■────────────»\n",
      "                    │P(π/4) └───┘ │        │P(π/2)  │         │       ┌───┐»\n",
      "q_2: ───────────────■─────────────┼────────■────────┼─────────┼───────┤ H ├»\n",
      "                                  │P(π/8)           │         │P(π/4) └───┘»\n",
      "q_3: ─────────────────────────────■─────────────────┼─────────■────────────»\n",
      "                                                    │P(π/16)               »\n",
      "q_4: ───────────────────────────────────────────────■──────────────────────»\n",
      "                                                                           »\n",
      "«                                                      \n",
      "«q_0: ───────────────────────────────────────────────X─\n",
      "«                                                    │ \n",
      "«q_1: ─■─────────────────────────────────────────X───┼─\n",
      "«      │                                         │   │ \n",
      "«q_2: ─┼────────■────────■───────────────────────┼───┼─\n",
      "«      │        │P(π/2)  │       ┌───┐           │   │ \n",
      "«q_3: ─┼────────■────────┼───────┤ H ├─■─────────X───┼─\n",
      "«      │P(π/8)           │P(π/4) └───┘ │P(π/2) ┌───┐ │ \n",
      "«q_4: ─■─────────────────■─────────────■───────┤ H ├─X─\n",
      "«                                              └───┘   \n"
     ]
    }
   ],
   "source": [
    "from qiskit import QuantumCircuit\n",
    "from qiskit.visualization import plot_state_city\n",
    "import numpy as np\n",
    "import matplotlib.pyplot as plt\n",
    "from qiskit_aer import Aer\n",
    "\n",
    "def qft_dagger(circuit, n):\n",
    "    \"\"\"n-qubit QFTdagger the first n qubits in circuit\"\"\"\n",
    "    for qubit in range(n//2):\n",
    "        circuit.swap(qubit, n-qubit-1)\n",
    "    for j in range(n):\n",
    "        for m in range(j):\n",
    "            circuit.cp(-np.pi/float(2**(j-m)), m, j)\n",
    "        circuit.h(j)\n",
    "\n",
    "def qft(circuit, n):\n",
    "    \"\"\"n-qubit QFT on the first n qubits in circuit\"\"\"\n",
    "    for j in range(n):\n",
    "        circuit.h(j)\n",
    "        for k in range(j+1, n):\n",
    "            circuit.cp(np.pi/float(2**(k-j)), j, k)\n",
    "    for qubit in range(n//2):\n",
    "        circuit.swap(qubit, n-qubit-1)\n",
    "\n",
    "# Create a 5-qubit quantum circuit\n",
    "qc = QuantumCircuit(5)\n",
    "\n",
    "# Apply QFT\n",
    "qft(qc, 5)\n",
    "\n",
    "# Draw the circuit\n",
    "print(qc.draw())\n",
    "\n",
    "# Simulate the circuit\n",
    "simulator = Aer.get_backend('statevector_simulator')\n",
    "result = simulator.run(qc).result()\n",
    "statevector = result.get_statevector()\n",
    "\n",
    "# Plot the statevector\n",
    "plot_state_city(statevector)\n",
    "plt.show()"
   ]
  },
  {
   "cell_type": "code",
   "execution_count": null,
   "metadata": {},
   "outputs": [],
   "source": []
  }
 ],
 "metadata": {
  "kernelspec": {
   "display_name": "myenv",
   "language": "python",
   "name": "python3"
  },
  "language_info": {
   "codemirror_mode": {
    "name": "ipython",
    "version": 3
   },
   "file_extension": ".py",
   "mimetype": "text/x-python",
   "name": "python",
   "nbconvert_exporter": "python",
   "pygments_lexer": "ipython3",
   "version": "3.12.3"
  }
 },
 "nbformat": 4,
 "nbformat_minor": 2
}
