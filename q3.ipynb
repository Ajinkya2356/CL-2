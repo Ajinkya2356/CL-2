{
 "cells": [
  {
   "cell_type": "code",
   "execution_count": 2,
   "metadata": {},
   "outputs": [],
   "source": [
    "from qiskit import QuantumCircuit,transpile,QuantumRegister,ClassicalRegister\n",
    "from qiskit_aer import Aer \n",
    "from qiskit.visualization import *\n",
    "from qiskit_ibm_runtime import QiskitRuntimeService"
   ]
  },
  {
   "cell_type": "code",
   "execution_count": 3,
   "metadata": {},
   "outputs": [],
   "source": [
    "service = QiskitRuntimeService(channel='ibm_quantum')"
   ]
  },
  {
   "cell_type": "code",
   "execution_count": 4,
   "metadata": {},
   "outputs": [],
   "source": [
    "q = QuantumRegister(3,'q')\n",
    "c0 = ClassicalRegister(1,'c0')\n",
    "c1 = ClassicalRegister(1,'c1')\n",
    "c2 = ClassicalRegister(1,'c2')\n",
    "circuit = QuantumCircuit(q,c0,c1,c2)"
   ]
  },
  {
   "cell_type": "code",
   "execution_count": 5,
   "metadata": {},
   "outputs": [
    {
     "name": "stdout",
     "output_type": "stream",
     "text": [
      "      \n",
      " q_0: \n",
      "      \n",
      " q_1: \n",
      "      \n",
      " q_2: \n",
      "      \n",
      "c0: 1/\n",
      "      \n",
      "c1: 1/\n",
      "      \n",
      "c2: 1/\n",
      "      \n"
     ]
    }
   ],
   "source": [
    "print(circuit)"
   ]
  },
  {
   "cell_type": "code",
   "execution_count": 6,
   "metadata": {},
   "outputs": [
    {
     "data": {
      "text/plain": [
       "CircuitInstruction(operation=Instruction(name='barrier', num_qubits=3, num_clbits=0, params=[]), qubits=(Qubit(QuantumRegister(3, 'q'), 0), Qubit(QuantumRegister(3, 'q'), 1), Qubit(QuantumRegister(3, 'q'), 2)), clbits=())"
      ]
     },
     "execution_count": 6,
     "metadata": {},
     "output_type": "execute_result"
    }
   ],
   "source": [
    "circuit.initialize([0,1],0)\n",
    "circuit.barrier()"
   ]
  },
  {
   "cell_type": "code",
   "execution_count": 7,
   "metadata": {},
   "outputs": [
    {
     "name": "stdout",
     "output_type": "stream",
     "text": [
      "      ┌─────────────────┐ ░ \n",
      " q_0: ┤ Initialize(0,1) ├─░─\n",
      "      └─────────────────┘ ░ \n",
      " q_1: ────────────────────░─\n",
      "                          ░ \n",
      " q_2: ────────────────────░─\n",
      "                          ░ \n",
      "c0: 1/══════════════════════\n",
      "                            \n",
      "c1: 1/══════════════════════\n",
      "                            \n",
      "c2: 1/══════════════════════\n",
      "                            \n"
     ]
    }
   ],
   "source": [
    "print(circuit)"
   ]
  },
  {
   "cell_type": "code",
   "execution_count": 8,
   "metadata": {},
   "outputs": [
    {
     "data": {
      "text/plain": [
       "CircuitInstruction(operation=Instruction(name='barrier', num_qubits=3, num_clbits=0, params=[]), qubits=(Qubit(QuantumRegister(3, 'q'), 0), Qubit(QuantumRegister(3, 'q'), 1), Qubit(QuantumRegister(3, 'q'), 2)), clbits=())"
      ]
     },
     "execution_count": 8,
     "metadata": {},
     "output_type": "execute_result"
    }
   ],
   "source": [
    "circuit.h(q[1])\n",
    "circuit.cx(q[1],q[2])\n",
    "circuit.barrier()"
   ]
  },
  {
   "cell_type": "code",
   "execution_count": 10,
   "metadata": {},
   "outputs": [
    {
     "name": "stdout",
     "output_type": "stream",
     "text": [
      "      ┌─────────────────┐ ░            ░ \n",
      " q_0: ┤ Initialize(0,1) ├─░────────────░─\n",
      "      └─────────────────┘ ░ ┌───┐      ░ \n",
      " q_1: ────────────────────░─┤ H ├──■───░─\n",
      "                          ░ └───┘┌─┴─┐ ░ \n",
      " q_2: ────────────────────░──────┤ X ├─░─\n",
      "                          ░      └───┘ ░ \n",
      "c0: 1/═══════════════════════════════════\n",
      "                                         \n",
      "c1: 1/═══════════════════════════════════\n",
      "                                         \n",
      "c2: 1/═══════════════════════════════════\n",
      "                                         \n"
     ]
    }
   ],
   "source": [
    "print(circuit)"
   ]
  },
  {
   "cell_type": "code",
   "execution_count": 12,
   "metadata": {},
   "outputs": [
    {
     "data": {
      "text/plain": [
       "CircuitInstruction(operation=Instruction(name='barrier', num_qubits=3, num_clbits=0, params=[]), qubits=(Qubit(QuantumRegister(3, 'q'), 0), Qubit(QuantumRegister(3, 'q'), 1), Qubit(QuantumRegister(3, 'q'), 2)), clbits=())"
      ]
     },
     "execution_count": 12,
     "metadata": {},
     "output_type": "execute_result"
    }
   ],
   "source": [
    "circuit.cx(q[0],q[1])\n",
    "circuit.h(q[0])\n",
    "circuit.barrier()"
   ]
  },
  {
   "cell_type": "code",
   "execution_count": 13,
   "metadata": {},
   "outputs": [
    {
     "name": "stdout",
     "output_type": "stream",
     "text": [
      "      ┌─────────────────┐ ░            ░      ┌───┐ ░ \n",
      " q_0: ┤ Initialize(0,1) ├─░────────────░───■──┤ H ├─░─\n",
      "      └─────────────────┘ ░ ┌───┐      ░ ┌─┴─┐└───┘ ░ \n",
      " q_1: ────────────────────░─┤ H ├──■───░─┤ X ├──────░─\n",
      "                          ░ └───┘┌─┴─┐ ░ └───┘      ░ \n",
      " q_2: ────────────────────░──────┤ X ├─░────────────░─\n",
      "                          ░      └───┘ ░            ░ \n",
      "c0: 1/════════════════════════════════════════════════\n",
      "                                                      \n",
      "c1: 1/════════════════════════════════════════════════\n",
      "                                                      \n",
      "c2: 1/════════════════════════════════════════════════\n",
      "                                                      \n"
     ]
    }
   ],
   "source": [
    "print(circuit)"
   ]
  },
  {
   "cell_type": "code",
   "execution_count": 14,
   "metadata": {},
   "outputs": [
    {
     "data": {
      "text/plain": [
       "<qiskit.circuit.instructionset.InstructionSet at 0x220eaddc910>"
      ]
     },
     "execution_count": 14,
     "metadata": {},
     "output_type": "execute_result"
    }
   ],
   "source": [
    "circuit.measure(q[0],c0[0])\n",
    "circuit.measure(q[1],c1[0])"
   ]
  },
  {
   "cell_type": "code",
   "execution_count": 15,
   "metadata": {},
   "outputs": [
    {
     "data": {
      "text/plain": [
       "<qiskit.circuit.instructionset.InstructionSet at 0x220ead6e350>"
      ]
     },
     "execution_count": 15,
     "metadata": {},
     "output_type": "execute_result"
    }
   ],
   "source": [
    "circuit.x(q[2]).c_if(c1,1)\n",
    "circuit.z(q[2]).c_if(c0,1)"
   ]
  },
  {
   "cell_type": "code",
   "execution_count": 16,
   "metadata": {},
   "outputs": [
    {
     "data": {
      "text/plain": [
       "<qiskit.circuit.instructionset.InstructionSet at 0x220eae764a0>"
      ]
     },
     "execution_count": 16,
     "metadata": {},
     "output_type": "execute_result"
    }
   ],
   "source": [
    "circuit.measure(q[2],c2[0])"
   ]
  },
  {
   "cell_type": "code",
   "execution_count": 17,
   "metadata": {},
   "outputs": [
    {
     "name": "stdout",
     "output_type": "stream",
     "text": [
      "      ┌─────────────────┐ ░            ░      ┌───┐ ░ ┌─┐                    \n",
      " q_0: ┤ Initialize(0,1) ├─░────────────░───■──┤ H ├─░─┤M├────────────────────\n",
      "      └─────────────────┘ ░ ┌───┐      ░ ┌─┴─┐└───┘ ░ └╥┘┌─┐                 \n",
      " q_1: ────────────────────░─┤ H ├──■───░─┤ X ├──────░──╫─┤M├─────────────────\n",
      "                          ░ └───┘┌─┴─┐ ░ └───┘      ░  ║ └╥┘ ┌───┐  ┌───┐ ┌─┐\n",
      " q_2: ────────────────────░──────┤ X ├─░────────────░──╫──╫──┤ X ├──┤ Z ├─┤M├\n",
      "                          ░      └───┘ ░            ░  ║  ║  └─╥─┘  └─╥─┘ └╥┘\n",
      "                                                       ║  ║    ║   ┌──╨──┐ ║ \n",
      "c0: 1/═════════════════════════════════════════════════╩══╬════╬═══╡ 0x1 ╞═╬═\n",
      "                                                       0  ║ ┌──╨──┐└─────┘ ║ \n",
      "c1: 1/════════════════════════════════════════════════════╩═╡ 0x1 ╞════════╬═\n",
      "                                                          0 └─────┘        ║ \n",
      "c2: 1/═════════════════════════════════════════════════════════════════════╩═\n",
      "                                                                           0 \n"
     ]
    }
   ],
   "source": [
    "print(circuit)"
   ]
  },
  {
   "cell_type": "code",
   "execution_count": 18,
   "metadata": {},
   "outputs": [],
   "source": [
    "simulator = Aer.get_backend('qasm_simulator')\n",
    "result = simulator.run(circuit,shots=1).result()\n",
    "counts = result.get_counts(circuit)"
   ]
  },
  {
   "cell_type": "code",
   "execution_count": 19,
   "metadata": {},
   "outputs": [
    {
     "data": {
      "text/plain": [
       "{'1 1 1': 1}"
      ]
     },
     "execution_count": 19,
     "metadata": {},
     "output_type": "execute_result"
    }
   ],
   "source": [
    "counts"
   ]
  },
  {
   "cell_type": "code",
   "execution_count": null,
   "metadata": {},
   "outputs": [],
   "source": []
  }
 ],
 "metadata": {
  "kernelspec": {
   "display_name": "myenv",
   "language": "python",
   "name": "python3"
  },
  "language_info": {
   "codemirror_mode": {
    "name": "ipython",
    "version": 3
   },
   "file_extension": ".py",
   "mimetype": "text/x-python",
   "name": "python",
   "nbconvert_exporter": "python",
   "pygments_lexer": "ipython3",
   "version": "3.12.3"
  }
 },
 "nbformat": 4,
 "nbformat_minor": 2
}
