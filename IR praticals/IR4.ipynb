{
  "nbformat": 4,
  "nbformat_minor": 0,
  "metadata": {
    "colab": {
      "private_outputs": true,
      "provenance": []
    },
    "kernelspec": {
      "name": "python3",
      "display_name": "Python 3"
    },
    "language_info": {
      "name": "python"
    }
  },
  "cells": [
    {
      "cell_type": "code",
      "execution_count": null,
      "metadata": {
        "id": "hOR3-6Ek_SEi"
      },
      "outputs": [],
      "source": [
        "import pandas as pd\n",
        "import numpy as np\n",
        "from sklearn.datasets import load_iris\n",
        "from scipy.cluster.hierarchy import dendrogram\n",
        "import matplotlib.pyplot as plt\n",
        "from sklearn.preprocessing import StandardScaler\n",
        "from sklearn.metrics import silhouette_score\n",
        "from sklearn.cluster import AgglomerativeClustering\n",
        "from sklearn.decomposition import PCA"
      ]
    },
    {
      "cell_type": "code",
      "source": [
        "data = load_iris()"
      ],
      "metadata": {
        "id": "8wkavCbq_yzp"
      },
      "execution_count": null,
      "outputs": []
    },
    {
      "cell_type": "code",
      "source": [
        "X = data.data\n",
        "y = data.target"
      ],
      "metadata": {
        "id": "5a1_ydlSAE3L"
      },
      "execution_count": null,
      "outputs": []
    },
    {
      "cell_type": "code",
      "source": [
        "X = pd.DataFrame(X, columns=data.feature_names)"
      ],
      "metadata": {
        "id": "EhNeuFA5AQ5T"
      },
      "execution_count": null,
      "outputs": []
    },
    {
      "cell_type": "code",
      "source": [
        "X.fillna(method=\"ffill\",inplace=True)"
      ],
      "metadata": {
        "id": "K6AQoK_0AXXk"
      },
      "execution_count": null,
      "outputs": []
    },
    {
      "cell_type": "code",
      "source": [
        "scaler = StandardScaler()\n",
        "X_scaled = scaler.fit_transform(X)"
      ],
      "metadata": {
        "id": "GTfbbGOMAbTE"
      },
      "execution_count": null,
      "outputs": []
    },
    {
      "cell_type": "code",
      "source": [
        "pca = PCA(n_components=2)\n",
        "X_pca = pca.fit_transform(X_scaled)\n",
        "X_principal = pd.DataFrame(X_pca, columns=['PC1', 'PC2'])"
      ],
      "metadata": {
        "id": "pph0Xy9FApRO"
      },
      "execution_count": null,
      "outputs": []
    },
    {
      "cell_type": "code",
      "source": [
        "X_principal"
      ],
      "metadata": {
        "id": "8XHpNsJuAxCM"
      },
      "execution_count": null,
      "outputs": []
    },
    {
      "cell_type": "code",
      "source": [
        "plt.figure(figsize=(10, 7))\n",
        "plt.title(\"Iris Dendrogram\")\n",
        "dend = dendrogram(shc.linkage(X_principal,method='ward'))"
      ],
      "metadata": {
        "id": "euooipdCAyID"
      },
      "execution_count": null,
      "outputs": []
    },
    {
      "cell_type": "code",
      "source": [
        "silhoutte_scores = []\n",
        "for k in range(2,6):\n",
        "  ac = AgglomerativeClustering(n_clusters = k)\n",
        "  silhoutte_scores.append(silhouette_score(X_principal,ac.fit_predict(X_principal)))\n",
        "  plt.figure(figsize=(6,6))\n",
        "  plt.title(\"Iris Dendrogram\")\n",
        "  plt.scatter(X_principal['PC1'],X_principal['PC2'], c = ac.fit_predict(X_principal),cmap='rainbow')\n",
        "  plt.show()"
      ],
      "metadata": {
        "id": "Pnbsa8OCA6f9"
      },
      "execution_count": null,
      "outputs": []
    },
    {
      "cell_type": "code",
      "source": [
        "silhoutte_scores"
      ],
      "metadata": {
        "id": "1UIFZT0TB8M9"
      },
      "execution_count": null,
      "outputs": []
    },
    {
      "cell_type": "code",
      "source": [
        "plt.bar(range(2,6),silhoutte_scores)\n",
        "plt.xlabel(\"Number of Clusters\")\n",
        "plt.ylabel(\"Silhoutte Score\")\n",
        "plt.show()"
      ],
      "metadata": {
        "id": "eTWNrcgnCpHs"
      },
      "execution_count": null,
      "outputs": []
    },
    {
      "cell_type": "code",
      "source": [],
      "metadata": {
        "id": "pVBH_xV5Cv0U"
      },
      "execution_count": null,
      "outputs": []
    }
  ]
}