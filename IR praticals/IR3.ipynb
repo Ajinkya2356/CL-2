{
  "nbformat": 4,
  "nbformat_minor": 0,
  "metadata": {
    "colab": {
      "private_outputs": true,
      "provenance": []
    },
    "kernelspec": {
      "name": "python3",
      "display_name": "Python 3"
    },
    "language_info": {
      "name": "python"
    }
  },
  "cells": [
    {
      "cell_type": "code",
      "source": [
        "import pandas as pd\n",
        "from pgmpy.models import BayesianNetwork\n",
        "from pgmpy.estimators import MaximumLikelihoodEstimator\n",
        "from pgmpy.inference import VariableElimination"
      ],
      "metadata": {
        "id": "DcA51E_o7KKI"
      },
      "execution_count": null,
      "outputs": []
    },
    {
      "cell_type": "code",
      "source": [
        "data = pd.read_csv('/content/heart.csv')"
      ],
      "metadata": {
        "id": "YjRq8W7W7gE1"
      },
      "execution_count": null,
      "outputs": []
    },
    {
      "cell_type": "code",
      "source": [
        "data.head()"
      ],
      "metadata": {
        "id": "XQ34XcQw7oC1"
      },
      "execution_count": null,
      "outputs": []
    },
    {
      "cell_type": "code",
      "source": [
        "data.info()"
      ],
      "metadata": {
        "id": "Kb98gztt7ppN"
      },
      "execution_count": null,
      "outputs": []
    },
    {
      "cell_type": "code",
      "source": [
        "import numpy as np\n",
        "data = data.replace('?',np.nan)"
      ],
      "metadata": {
        "id": "T2DG_v5E7qPV"
      },
      "execution_count": null,
      "outputs": []
    },
    {
      "cell_type": "code",
      "source": [
        "model = BayesianNetwork([\n",
        "    ('age','trestbps'),\n",
        "    ('age','fbs'),\n",
        "    ('sex','trestbps'),\n",
        "    ('exang','trestbps'),\n",
        "    ('trestbps','target'),\n",
        "    ('fbs','target'),\n",
        "    ('target','restecg'),\n",
        "    ('target','thalach'),\n",
        "    ('target','chol')\n",
        "])"
      ],
      "metadata": {
        "id": "y-MKDqA88F5v"
      },
      "execution_count": null,
      "outputs": []
    },
    {
      "cell_type": "code",
      "source": [
        "print('Learning CPD using Maximum Likelihood estimators')\n",
        "model.fit(data,estimator = MaximumLikelihoodEstimator)"
      ],
      "metadata": {
        "id": "IKT2dzlJ8heE"
      },
      "execution_count": null,
      "outputs": []
    },
    {
      "cell_type": "code",
      "source": [
        "print('Inferencing with Bayesian Network')\n",
        "infer = VariableElimination(model)"
      ],
      "metadata": {
        "id": "PLcnfa0T8x_1"
      },
      "execution_count": null,
      "outputs": []
    },
    {
      "cell_type": "code",
      "source": [
        "print(\"Probability of Heart Disease at Age 38\")\n",
        "q = infer.query(variables = ['target'],evidence = {'age':38})\n",
        "print(q)"
      ],
      "metadata": {
        "id": "TlzfSHUB9Lsk"
      },
      "execution_count": null,
      "outputs": []
    },
    {
      "cell_type": "code",
      "source": [
        "print(\"Probability of Heart Disease at cholesterol 230\")\n",
        "q = infer.query(variables = ['target'],evidence = {'chol':230})\n",
        "print(q)"
      ],
      "metadata": {
        "id": "x34caII49UJE"
      },
      "execution_count": null,
      "outputs": []
    }
  ]
}