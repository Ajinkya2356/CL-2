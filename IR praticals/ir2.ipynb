{
 "cells": [
  {
   "cell_type": "code",
   "execution_count": 50,
   "metadata": {},
   "outputs": [],
   "source": [
    "from collections import defaultdict"
   ]
  },
  {
   "cell_type": "code",
   "execution_count": 51,
   "metadata": {},
   "outputs": [],
   "source": [
    "documents = {\n",
    "    1: \"The quick brown fox jumps over the lazy dog\",\n",
    "    2: \"Never jump over the lazy dog quickly\",\n",
    "    3: \"A quick brown dog outpaces a quick fox\"\n",
    "}"
   ]
  },
  {
   "cell_type": "code",
   "execution_count": 52,
   "metadata": {},
   "outputs": [],
   "source": [
    "def preprocess(document):\n",
    "    return document.lower().split(\" \")    "
   ]
  },
  {
   "cell_type": "code",
   "execution_count": 53,
   "metadata": {},
   "outputs": [],
   "source": [
    "def build_inverted_index(docs):\n",
    "    inverted_index = defaultdict(set)\n",
    "    for doc_id,doc in docs.items():\n",
    "        words = preprocess(doc)\n",
    "        for word in words:\n",
    "                inverted_index[word].add(doc_id)\n",
    "    return inverted_index"
   ]
  },
  {
   "cell_type": "code",
   "execution_count": 54,
   "metadata": {},
   "outputs": [],
   "source": [
    "def search(query,inverted_index):\n",
    "    query_words = preprocess(query)\n",
    "    if len(query_words) == 0:\n",
    "        return []\n",
    "    result = inverted_index.get(query_words[0],set())\n",
    "\n",
    "    for word in query_words[1:]:\n",
    "        result = result.intersection(inverted_index.get(word,set()))\n",
    "        \n",
    "    return result"
   ]
  },
  {
   "cell_type": "code",
   "execution_count": 55,
   "metadata": {},
   "outputs": [
    {
     "name": "stdout",
     "output_type": "stream",
     "text": [
      "{1, 2}\n"
     ]
    }
   ],
   "source": [
    "inverted_index = build_inverted_index(documents)\n",
    "query = \"lazy dog\"\n",
    "print(search(query,inverted_index))"
   ]
  },
  {
   "cell_type": "code",
   "execution_count": 56,
   "metadata": {},
   "outputs": [
    {
     "data": {
      "text/plain": [
       "defaultdict(set,\n",
       "            {'the': {1, 2},\n",
       "             'quick': {1, 3},\n",
       "             'brown': {1, 3},\n",
       "             'fox': {1, 3},\n",
       "             'jumps': {1},\n",
       "             'over': {1, 2},\n",
       "             'lazy': {1, 2},\n",
       "             'dog': {1, 2, 3},\n",
       "             'never': {2},\n",
       "             'jump': {2},\n",
       "             'quickly': {2},\n",
       "             'a': {3},\n",
       "             'outpaces': {3}})"
      ]
     },
     "execution_count": 56,
     "metadata": {},
     "output_type": "execute_result"
    }
   ],
   "source": [
    "inverted_index"
   ]
  },
  {
   "cell_type": "code",
   "execution_count": null,
   "metadata": {},
   "outputs": [],
   "source": []
  }
 ],
 "metadata": {
  "kernelspec": {
   "display_name": "Python 3",
   "language": "python",
   "name": "python3"
  },
  "language_info": {
   "codemirror_mode": {
    "name": "ipython",
    "version": 3
   },
   "file_extension": ".py",
   "mimetype": "text/x-python",
   "name": "python",
   "nbconvert_exporter": "python",
   "pygments_lexer": "ipython3",
   "version": "3.12.3"
  }
 },
 "nbformat": 4,
 "nbformat_minor": 2
}
