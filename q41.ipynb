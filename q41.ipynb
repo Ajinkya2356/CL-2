{
 "cells": [
  {
   "cell_type": "code",
   "execution_count": 13,
   "metadata": {},
   "outputs": [],
   "source": [
    "from qiskit import QuantumCircuit\n",
    "from qiskit_aer import Aer\n",
    "import numpy as np"
   ]
  },
  {
   "cell_type": "code",
   "execution_count": 14,
   "metadata": {},
   "outputs": [],
   "source": [
    "def generate_random_circuit(n_qubits,depth):\n",
    "    qc = QuantumCircuit(n_qubits,n_qubits)\n",
    "    for _ in range(depth):\n",
    "        for qubit in range(n_qubits):\n",
    "            qc.rx(np.random.uniform(0,2*np.pi),qubit)\n",
    "            qc.ry(np.random.uniform(0,2*np.pi),qubit)\n",
    "            qc.rz(np.random.uniform(0,2*np.pi),qubit)\n",
    "        for qubit in range(n_qubits-1):\n",
    "            qc.cz(qubit,qubit+1)\n",
    "    return qc"
   ]
  },
  {
   "cell_type": "code",
   "execution_count": 15,
   "metadata": {},
   "outputs": [],
   "source": [
    "def random_benchmarking(n_qubits,depths,n_seq,shots):\n",
    "    simulator = Aer.get_backend('statevector_simulator')\n",
    "    results = []\n",
    "    for depth in depths:\n",
    "        success_count = 0\n",
    "        for _ in range(n_seq):\n",
    "            circuit = generate_random_circuit(n_qubits,depth)\n",
    "            inverse_circuit = circuit.inverse()\n",
    "\n",
    "            circuit_res = simulator.run(circuit,shots=shots).result()\n",
    "            inverse_res = simulator.run(inverse_circuit,shots=shots).result()\n",
    "            circuit_state = circuit_res.get_statevector()\n",
    "            inverse_state = inverse_res.get_statevector()\n",
    "            fidelity = np.abs(np.dot(inverse_state,circuit_state))**2\n",
    "            success_count += (shots) *(1-fidelity)\n",
    "        results.append(success_count/n_seq)\n",
    "    return results\n",
    "\n"
   ]
  },
  {
   "cell_type": "code",
   "execution_count": 16,
   "metadata": {},
   "outputs": [],
   "source": [
    "n = 2\n",
    "depths = [1,2,3,4,5]\n",
    "n_seq = 100\n",
    "shots = 1000"
   ]
  },
  {
   "cell_type": "code",
   "execution_count": 17,
   "metadata": {},
   "outputs": [],
   "source": [
    "res = random_benchmarking(n,depths,n_seq,shots)"
   ]
  },
  {
   "cell_type": "code",
   "execution_count": 18,
   "metadata": {},
   "outputs": [
    {
     "data": {
      "text/plain": [
       "[np.float64(604.4502421317914),\n",
       " np.float64(677.9890150694249),\n",
       " np.float64(739.1416080347739),\n",
       " np.float64(669.2979829006899),\n",
       " np.float64(710.8010429307856)]"
      ]
     },
     "execution_count": 18,
     "metadata": {},
     "output_type": "execute_result"
    }
   ],
   "source": [
    "res"
   ]
  }
 ],
 "metadata": {
  "kernelspec": {
   "display_name": "myenv",
   "language": "python",
   "name": "python3"
  },
  "language_info": {
   "codemirror_mode": {
    "name": "ipython",
    "version": 3
   },
   "file_extension": ".py",
   "mimetype": "text/x-python",
   "name": "python",
   "nbconvert_exporter": "python",
   "pygments_lexer": "ipython3",
   "version": "3.12.3"
  }
 },
 "nbformat": 4,
 "nbformat_minor": 2
}
