{
 "cells": [
  {
   "cell_type": "code",
   "execution_count": 43,
   "metadata": {},
   "outputs": [],
   "source": [
    "from qiskit import QuantumCircuit\n",
    "from qiskit_aer import Aer \n",
    "from qiskit.visualization import plot_state_city\n",
    "import matplotlib.pyplot as plt \n",
    "import numpy as np"
   ]
  },
  {
   "cell_type": "code",
   "execution_count": 44,
   "metadata": {},
   "outputs": [],
   "source": [
    "def qft(circuit,n):\n",
    "    for i in range(n):\n",
    "        circuit.h(i)\n",
    "        for k in range(i+1,n):\n",
    "            circuit.cp(np.pi/2**(k-i),k,i)\n",
    "    for qubit in range(n//2):\n",
    "        circuit.swap(qubit,n-qubit-1)"
   ]
  },
  {
   "cell_type": "code",
   "execution_count": 45,
   "metadata": {},
   "outputs": [],
   "source": [
    "def qft_inverse(circuit,n):\n",
    "    for qubit in range(n//2):\n",
    "        circuit.swap(qubit,n-qubit-1)\n",
    "    for i in range(n):\n",
    "        circuit.h(i)\n",
    "        for j in range(i):\n",
    "            circuit.cp(-np.pi/2**(i-j),j,i)\n",
    "        "
   ]
  },
  {
   "cell_type": "code",
   "execution_count": 46,
   "metadata": {},
   "outputs": [
    {
     "data": {
      "text/plain": [
       "<qiskit.circuit.instructionset.InstructionSet at 0x18be63ecf70>"
      ]
     },
     "execution_count": 46,
     "metadata": {},
     "output_type": "execute_result"
    }
   ],
   "source": [
    "qc = QuantumCircuit(5)\n",
    "qc.x([0, 1, 2, 3, 4])"
   ]
  },
  {
   "cell_type": "code",
   "execution_count": 47,
   "metadata": {},
   "outputs": [
    {
     "name": "stdout",
     "output_type": "stream",
     "text": [
      "     ┌───┐\n",
      "q_0: ┤ X ├\n",
      "     ├───┤\n",
      "q_1: ┤ X ├\n",
      "     ├───┤\n",
      "q_2: ┤ X ├\n",
      "     ├───┤\n",
      "q_3: ┤ X ├\n",
      "     ├───┤\n",
      "q_4: ┤ X ├\n",
      "     └───┘\n"
     ]
    }
   ],
   "source": [
    "print(qc)"
   ]
  },
  {
   "cell_type": "code",
   "execution_count": 48,
   "metadata": {},
   "outputs": [],
   "source": [
    "qft(qc,5)"
   ]
  },
  {
   "cell_type": "code",
   "execution_count": 49,
   "metadata": {},
   "outputs": [
    {
     "name": "stdout",
     "output_type": "stream",
     "text": [
      "     ┌───┐┌───┐                                                            »\n",
      "q_0: ┤ X ├┤ H ├─■────────■─────────────■─────────────────■─────────────────»\n",
      "     ├───┤└───┘ │P(π/2)  │       ┌───┐ │                 │                 »\n",
      "q_1: ┤ X ├──────■────────┼───────┤ H ├─┼────────■────────┼─────────■───────»\n",
      "     ├───┤               │P(π/4) └───┘ │        │P(π/2)  │         │       »\n",
      "q_2: ┤ X ├───────────────■─────────────┼────────■────────┼─────────┼───────»\n",
      "     ├───┤                             │P(π/8)           │         │P(π/4) »\n",
      "q_3: ┤ X ├─────────────────────────────■─────────────────┼─────────■───────»\n",
      "     ├───┤                                               │P(π/16)          »\n",
      "q_4: ┤ X ├───────────────────────────────────────────────■─────────────────»\n",
      "     └───┘                                                                 »\n",
      "«                                                           \n",
      "«q_0: ────────────────────────────────────────────────────X─\n",
      "«                                                         │ \n",
      "«q_1: ──────■─────────────────────────────────────────X───┼─\n",
      "«     ┌───┐ │                                         │   │ \n",
      "«q_2: ┤ H ├─┼────────■────────■───────────────────────┼───┼─\n",
      "«     └───┘ │        │P(π/2)  │       ┌───┐           │   │ \n",
      "«q_3: ──────┼────────■────────┼───────┤ H ├─■─────────X───┼─\n",
      "«           │P(π/8)           │P(π/4) └───┘ │P(π/2) ┌───┐ │ \n",
      "«q_4: ──────■─────────────────■─────────────■───────┤ H ├─X─\n",
      "«                                                   └───┘   \n"
     ]
    }
   ],
   "source": [
    "print(qc)"
   ]
  },
  {
   "cell_type": "code",
   "execution_count": 50,
   "metadata": {},
   "outputs": [],
   "source": [
    "simulator = Aer.get_backend('statevector_simulator')\n",
    "result = simulator.run(qc).result()\n",
    "statevector = result.get_statevector()"
   ]
  },
  {
   "cell_type": "code",
   "execution_count": 51,
   "metadata": {},
   "outputs": [],
   "source": [
    "plot_state_city(statevector)\n",
    "plt.show()"
   ]
  },
  {
   "cell_type": "code",
   "execution_count": 52,
   "metadata": {},
   "outputs": [],
   "source": [
    "qft_inverse(qc,5)"
   ]
  },
  {
   "cell_type": "code",
   "execution_count": 53,
   "metadata": {},
   "outputs": [
    {
     "name": "stdout",
     "output_type": "stream",
     "text": [
      "     ┌───┐┌───┐                                                            »\n",
      "q_0: ┤ X ├┤ H ├─■────────■─────────────■─────────────────■─────────────────»\n",
      "     ├───┤└───┘ │P(π/2)  │       ┌───┐ │                 │                 »\n",
      "q_1: ┤ X ├──────■────────┼───────┤ H ├─┼────────■────────┼─────────■───────»\n",
      "     ├───┤               │P(π/4) └───┘ │        │P(π/2)  │         │       »\n",
      "q_2: ┤ X ├───────────────■─────────────┼────────■────────┼─────────┼───────»\n",
      "     ├───┤                             │P(π/8)           │         │P(π/4) »\n",
      "q_3: ┤ X ├─────────────────────────────■─────────────────┼─────────■───────»\n",
      "     ├───┤                                               │P(π/16)          »\n",
      "q_4: ┤ X ├───────────────────────────────────────────────■─────────────────»\n",
      "     └───┘                                                                 »\n",
      "«                                                                 ┌───┐»\n",
      "«q_0: ────────────────────────────────────────────────────X─────X─┤ H ├»\n",
      "«                                                         │     │ ├───┤»\n",
      "«q_1: ──────■─────────────────────────────────────────X───┼──X──┼─┤ H ├»\n",
      "«     ┌───┐ │                         ┌───┐           │   │  │  │ └───┘»\n",
      "«q_2: ┤ H ├─┼────────■────────■───────┤ H ├───────────┼───┼──┼──┼──────»\n",
      "«     └───┘ │        │P(π/2)  │       ├───┤           │   │  │  │ ┌───┐»\n",
      "«q_3: ──────┼────────■────────┼───────┤ H ├─■─────────X───┼──X──┼─┤ H ├»\n",
      "«           │P(π/8)           │P(π/4) └───┘ │P(π/2) ┌───┐ │     │ ├───┤»\n",
      "«q_4: ──────■─────────────────■─────────────■───────┤ H ├─X─────X─┤ H ├»\n",
      "«                                                   └───┘         └───┘»\n",
      "«                                                                            »\n",
      "«q_0: ─■─────────■───────────────────■───────────────────■───────────────────»\n",
      "«      │P(-π/2)  │                   │                   │                   »\n",
      "«q_1: ─■─────────┼─────────■─────────┼─────────■─────────┼───────────────────»\n",
      "«                │P(-π/4)  │P(-π/2)  │         │         │                   »\n",
      "«q_2: ───────────■─────────■─────────┼─────────┼─────────┼──────────■────────»\n",
      "«                                    │P(-π/8)  │P(-π/4)  │          │P(-π/2) »\n",
      "«q_3: ───────────────────────────────■─────────■─────────┼──────────■────────»\n",
      "«                                                        │P(-π/16)           »\n",
      "«q_4: ───────────────────────────────────────────────────■───────────────────»\n",
      "«                                                                            »\n",
      "«                                   \n",
      "«q_0: ──────────────────────────────\n",
      "«                                   \n",
      "«q_1: ─■────────────────────────────\n",
      "«      │                            \n",
      "«q_2: ─┼─────────■──────────────────\n",
      "«      │         │                  \n",
      "«q_3: ─┼─────────┼─────────■────────\n",
      "«      │P(-π/8)  │P(-π/4)  │P(-π/2) \n",
      "«q_4: ─■─────────■─────────■────────\n",
      "«                                   \n"
     ]
    }
   ],
   "source": [
    "print(qc)"
   ]
  },
  {
   "cell_type": "code",
   "execution_count": 54,
   "metadata": {},
   "outputs": [],
   "source": [
    "result_2 = simulator.run(qc).result()\n",
    "statevector_2 = result_2.get_statevector()"
   ]
  },
  {
   "cell_type": "code",
   "execution_count": 55,
   "metadata": {},
   "outputs": [
    {
     "name": "stderr",
     "output_type": "stream",
     "text": [
      "C:\\Users\\Dell\\AppData\\Local\\Temp\\ipykernel_5272\\3246558186.py:1: DeprecationWarning: The return type of saved statevectors has been changed from a `numpy.ndarray` to a `qiskit.quantum_info.Statevector` as of qiskit-aer 0.10. Accessing numpy array attributes is deprecated and will result in an error in a future release. To continue using saved result objects as arrays you can explicitly cast them using  `np.asarray(object)`.\n",
      "  fidelity = np.abs(np.dot(statevector,statevector_2.conj()))**2\n"
     ]
    }
   ],
   "source": [
    "fidelity = np.abs(np.dot(statevector,statevector_2.conj()))**2"
   ]
  },
  {
   "cell_type": "code",
   "execution_count": 56,
   "metadata": {},
   "outputs": [
    {
     "data": {
      "text/plain": [
       "np.float64(0.059474668623666765)"
      ]
     },
     "execution_count": 56,
     "metadata": {},
     "output_type": "execute_result"
    }
   ],
   "source": [
    "fidelity"
   ]
  },
  {
   "cell_type": "code",
   "execution_count": 57,
   "metadata": {},
   "outputs": [],
   "source": [
    "success = fidelity > 0.999"
   ]
  },
  {
   "cell_type": "code",
   "execution_count": 58,
   "metadata": {},
   "outputs": [
    {
     "data": {
      "text/plain": [
       "np.False_"
      ]
     },
     "execution_count": 58,
     "metadata": {},
     "output_type": "execute_result"
    }
   ],
   "source": [
    "success"
   ]
  },
  {
   "cell_type": "code",
   "execution_count": 20,
   "metadata": {},
   "outputs": [],
   "source": [
    "from qiskit.circuit.library import QFT \n",
    "from qiskit import QuantumRegister,ClassicalRegister,QuantumCircuit\n",
    "from qiskit_aer import Aer"
   ]
  },
  {
   "cell_type": "code",
   "execution_count": 21,
   "metadata": {},
   "outputs": [],
   "source": [
    "q = QuantumRegister(5)\n",
    "c = ClassicalRegister(5)"
   ]
  },
  {
   "cell_type": "code",
   "execution_count": 22,
   "metadata": {},
   "outputs": [],
   "source": [
    "circuit = QuantumCircuit(q,c)"
   ]
  },
  {
   "cell_type": "code",
   "execution_count": 23,
   "metadata": {},
   "outputs": [
    {
     "data": {
      "text/plain": [
       "<qiskit.circuit.instructionset.InstructionSet at 0x1dcff6cd660>"
      ]
     },
     "execution_count": 23,
     "metadata": {},
     "output_type": "execute_result"
    }
   ],
   "source": [
    "circuit.x(q[0])\n",
    "circuit.x(q[2])\n",
    "circuit.x(q[4])"
   ]
  },
  {
   "cell_type": "code",
   "execution_count": 24,
   "metadata": {},
   "outputs": [
    {
     "name": "stdout",
     "output_type": "stream",
     "text": [
      "      ┌───┐\n",
      "q4_0: ┤ X ├\n",
      "      └───┘\n",
      "q4_1: ─────\n",
      "      ┌───┐\n",
      "q4_2: ┤ X ├\n",
      "      └───┘\n",
      "q4_3: ─────\n",
      "      ┌───┐\n",
      "q4_4: ┤ X ├\n",
      "      └───┘\n",
      "c3: 5/═════\n",
      "           \n"
     ]
    }
   ],
   "source": [
    "print(circuit)"
   ]
  },
  {
   "cell_type": "code",
   "execution_count": 25,
   "metadata": {},
   "outputs": [
    {
     "data": {
      "text/plain": [
       "<qiskit.circuit.instructionset.InstructionSet at 0x1dcff7616f0>"
      ]
     },
     "execution_count": 25,
     "metadata": {},
     "output_type": "execute_result"
    }
   ],
   "source": [
    "circuit.append(QFT(5,approximation_degree=0,inverse=False,do_swaps=False),q)"
   ]
  },
  {
   "cell_type": "code",
   "execution_count": 26,
   "metadata": {},
   "outputs": [
    {
     "name": "stdout",
     "output_type": "stream",
     "text": [
      "      ┌───┐┌──────┐\n",
      "q4_0: ┤ X ├┤0     ├\n",
      "      └───┘│      │\n",
      "q4_1: ─────┤1     ├\n",
      "      ┌───┐│      │\n",
      "q4_2: ┤ X ├┤2 QFT ├\n",
      "      └───┘│      │\n",
      "q4_3: ─────┤3     ├\n",
      "      ┌───┐│      │\n",
      "q4_4: ┤ X ├┤4     ├\n",
      "      └───┘└──────┘\n",
      "c3: 5/═════════════\n",
      "                   \n"
     ]
    }
   ],
   "source": [
    "print(circuit)"
   ]
  },
  {
   "cell_type": "code",
   "execution_count": 27,
   "metadata": {},
   "outputs": [
    {
     "data": {
      "text/plain": [
       "<qiskit.circuit.instructionset.InstructionSet at 0x1dcff6bb940>"
      ]
     },
     "execution_count": 27,
     "metadata": {},
     "output_type": "execute_result"
    }
   ],
   "source": [
    "circuit.measure(q,c)"
   ]
  },
  {
   "cell_type": "code",
   "execution_count": 28,
   "metadata": {},
   "outputs": [
    {
     "name": "stdout",
     "output_type": "stream",
     "text": [
      "      ┌───┐┌──────┐┌─┐            \n",
      "q4_0: ┤ X ├┤0     ├┤M├────────────\n",
      "      └───┘│      │└╥┘┌─┐         \n",
      "q4_1: ─────┤1     ├─╫─┤M├─────────\n",
      "      ┌───┐│      │ ║ └╥┘┌─┐      \n",
      "q4_2: ┤ X ├┤2 QFT ├─╫──╫─┤M├──────\n",
      "      └───┘│      │ ║  ║ └╥┘┌─┐   \n",
      "q4_3: ─────┤3     ├─╫──╫──╫─┤M├───\n",
      "      ┌───┐│      │ ║  ║  ║ └╥┘┌─┐\n",
      "q4_4: ┤ X ├┤4     ├─╫──╫──╫──╫─┤M├\n",
      "      └───┘└──────┘ ║  ║  ║  ║ └╥┘\n",
      "c3: 5/══════════════╩══╩══╩══╩══╩═\n",
      "                    0  1  2  3  4 \n"
     ]
    }
   ],
   "source": [
    "print(circuit)"
   ]
  },
  {
   "cell_type": "code",
   "execution_count": 31,
   "metadata": {},
   "outputs": [
    {
     "name": "stdout",
     "output_type": "stream",
     "text": [
      "      ┌───────────┐┌──────┐┌─┐            \n",
      "q4_0: ┤ U3(π,0,π) ├┤0     ├┤M├────────────\n",
      "      └───────────┘│      │└╥┘┌─┐         \n",
      "q4_1: ─────────────┤1     ├─╫─┤M├─────────\n",
      "      ┌───────────┐│      │ ║ └╥┘┌─┐      \n",
      "q4_2: ┤ U3(π,0,π) ├┤2 QFT ├─╫──╫─┤M├──────\n",
      "      └───────────┘│      │ ║  ║ └╥┘┌─┐   \n",
      "q4_3: ─────────────┤3     ├─╫──╫──╫─┤M├───\n",
      "      ┌───────────┐│      │ ║  ║  ║ └╥┘┌─┐\n",
      "q4_4: ┤ U3(π,0,π) ├┤4     ├─╫──╫──╫──╫─┤M├\n",
      "      └───────────┘└──────┘ ║  ║  ║  ║ └╥┘\n",
      "c3: 5/══════════════════════╩══╩══╩══╩══╩═\n",
      "                            0  1  2  3  4 \n"
     ]
    }
   ],
   "source": [
    "# Decompose the QFT gate into basic gates\n",
    "circuit_decomposed = circuit.decompose()\n",
    "print(circuit_decomposed)"
   ]
  },
  {
   "cell_type": "code",
   "execution_count": null,
   "metadata": {},
   "outputs": [],
   "source": []
  }
 ],
 "metadata": {
  "kernelspec": {
   "display_name": "myenv",
   "language": "python",
   "name": "python3"
  },
  "language_info": {
   "codemirror_mode": {
    "name": "ipython",
    "version": 3
   },
   "file_extension": ".py",
   "mimetype": "text/x-python",
   "name": "python",
   "nbconvert_exporter": "python",
   "pygments_lexer": "ipython3",
   "version": "3.12.3"
  }
 },
 "nbformat": 4,
 "nbformat_minor": 2
}
