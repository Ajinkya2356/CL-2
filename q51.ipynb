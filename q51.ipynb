{
 "cells": [
  {
   "cell_type": "code",
   "execution_count": 2,
   "metadata": {},
   "outputs": [],
   "source": [
    "from qiskit import QuantumCircuit\n",
    "from qiskit_aer import Aer \n",
    "import numpy as np"
   ]
  },
  {
   "cell_type": "code",
   "execution_count": 3,
   "metadata": {},
   "outputs": [],
   "source": [
    "def qft(circuit,n):\n",
    "    for i in range(n):\n",
    "        circuit.h(i)\n",
    "        for j in range(i+1,n):\n",
    "            circuit.cp(np.pi/2**(j-i),j,i)\n",
    "    for i in range(n//2):\n",
    "        circuit.swap(i,n-i-1)"
   ]
  },
  {
   "cell_type": "code",
   "execution_count": 15,
   "metadata": {},
   "outputs": [],
   "source": [
    "def qft_inverse(circuit,n):\n",
    "    for i in range(n//2):\n",
    "        circuit.swap(i,n-i-1)   \n",
    "    for i in range(n):\n",
    "        for j in range(i):\n",
    "            circuit.cp(-np.pi/2**(i-j),j,i)\n",
    "        circuit.h(i)"
   ]
  },
  {
   "cell_type": "code",
   "execution_count": 4,
   "metadata": {},
   "outputs": [],
   "source": [
    "circuit = QuantumCircuit(5)"
   ]
  },
  {
   "cell_type": "code",
   "execution_count": 6,
   "metadata": {},
   "outputs": [
    {
     "data": {
      "text/plain": [
       "<qiskit.circuit.instructionset.InstructionSet at 0x1b34142ded0>"
      ]
     },
     "execution_count": 6,
     "metadata": {},
     "output_type": "execute_result"
    }
   ],
   "source": [
    "circuit.x([0,2,4])"
   ]
  },
  {
   "cell_type": "code",
   "execution_count": 7,
   "metadata": {},
   "outputs": [
    {
     "name": "stdout",
     "output_type": "stream",
     "text": [
      "     ┌───┐\n",
      "q_0: ┤ X ├\n",
      "     └───┘\n",
      "q_1: ─────\n",
      "     ┌───┐\n",
      "q_2: ┤ X ├\n",
      "     └───┘\n",
      "q_3: ─────\n",
      "     ┌───┐\n",
      "q_4: ┤ X ├\n",
      "     └───┘\n"
     ]
    }
   ],
   "source": [
    "print(circuit)"
   ]
  },
  {
   "cell_type": "code",
   "execution_count": 8,
   "metadata": {},
   "outputs": [],
   "source": [
    "qft(circuit,5)"
   ]
  },
  {
   "cell_type": "code",
   "execution_count": 9,
   "metadata": {},
   "outputs": [
    {
     "name": "stdout",
     "output_type": "stream",
     "text": [
      "     ┌───┐┌───┐                                                            »\n",
      "q_0: ┤ X ├┤ H ├─■────────■─────────────■─────────────────■─────────────────»\n",
      "     └───┘└───┘ │P(π/2)  │       ┌───┐ │                 │                 »\n",
      "q_1: ───────────■────────┼───────┤ H ├─┼────────■────────┼─────────■───────»\n",
      "     ┌───┐               │P(π/4) └───┘ │        │P(π/2)  │         │       »\n",
      "q_2: ┤ X ├───────────────■─────────────┼────────■────────┼─────────┼───────»\n",
      "     └───┘                             │P(π/8)           │         │P(π/4) »\n",
      "q_3: ──────────────────────────────────■─────────────────┼─────────■───────»\n",
      "     ┌───┐                                               │P(π/16)          »\n",
      "q_4: ┤ X ├───────────────────────────────────────────────■─────────────────»\n",
      "     └───┘                                                                 »\n",
      "«                                                           \n",
      "«q_0: ────────────────────────────────────────────────────X─\n",
      "«                                                         │ \n",
      "«q_1: ──────■─────────────────────────────────────────X───┼─\n",
      "«     ┌───┐ │                                         │   │ \n",
      "«q_2: ┤ H ├─┼────────■────────■───────────────────────┼───┼─\n",
      "«     └───┘ │        │P(π/2)  │       ┌───┐           │   │ \n",
      "«q_3: ──────┼────────■────────┼───────┤ H ├─■─────────X───┼─\n",
      "«           │P(π/8)           │P(π/4) └───┘ │P(π/2) ┌───┐ │ \n",
      "«q_4: ──────■─────────────────■─────────────■───────┤ H ├─X─\n",
      "«                                                   └───┘   \n"
     ]
    }
   ],
   "source": [
    "print(circuit)"
   ]
  },
  {
   "cell_type": "code",
   "execution_count": 10,
   "metadata": {},
   "outputs": [],
   "source": [
    "simulator = Aer.get_backend('statevector_simulator')\n",
    "result = simulator.run(circuit).result()\n",
    "statevector = result.get_statevector()"
   ]
  },
  {
   "cell_type": "code",
   "execution_count": 11,
   "metadata": {},
   "outputs": [],
   "source": [
    "counts = result.get_counts()"
   ]
  },
  {
   "cell_type": "code",
   "execution_count": 13,
   "metadata": {},
   "outputs": [
    {
     "name": "stdout",
     "output_type": "stream",
     "text": [
      "{np.str_('00000'): np.float64(0.03125), np.str_('00001'): np.float64(0.03125), np.str_('00010'): np.float64(0.03125), np.str_('00011'): np.float64(0.03125), np.str_('00100'): np.float64(0.03125), np.str_('00101'): np.float64(0.03125), np.str_('00110'): np.float64(0.03125), np.str_('00111'): np.float64(0.03125), np.str_('01000'): np.float64(0.03125), np.str_('01001'): np.float64(0.03125), np.str_('01010'): np.float64(0.03125), np.str_('01011'): np.float64(0.03125), np.str_('01100'): np.float64(0.03125), np.str_('01101'): np.float64(0.03125), np.str_('01110'): np.float64(0.03125), np.str_('01111'): np.float64(0.03125), np.str_('10000'): np.float64(0.03125), np.str_('10001'): np.float64(0.03125), np.str_('10010'): np.float64(0.03125), np.str_('10011'): np.float64(0.03125), np.str_('10100'): np.float64(0.03125), np.str_('10101'): np.float64(0.03125), np.str_('10110'): np.float64(0.03125), np.str_('10111'): np.float64(0.03125), np.str_('11000'): np.float64(0.03125), np.str_('11001'): np.float64(0.03125), np.str_('11010'): np.float64(0.03125), np.str_('11011'): np.float64(0.03125), np.str_('11100'): np.float64(0.03125), np.str_('11101'): np.float64(0.03125), np.str_('11110'): np.float64(0.03125), np.str_('11111'): np.float64(0.03125)} "
     ]
    }
   ],
   "source": [
    "print(counts,end= \" \")"
   ]
  },
  {
   "cell_type": "code",
   "execution_count": null,
   "metadata": {},
   "outputs": [],
   "source": []
  }
 ],
 "metadata": {
  "kernelspec": {
   "display_name": "myenv",
   "language": "python",
   "name": "python3"
  },
  "language_info": {
   "codemirror_mode": {
    "name": "ipython",
    "version": 3
   },
   "file_extension": ".py",
   "mimetype": "text/x-python",
   "name": "python",
   "nbconvert_exporter": "python",
   "pygments_lexer": "ipython3",
   "version": "3.12.3"
  }
 },
 "nbformat": 4,
 "nbformat_minor": 2
}
