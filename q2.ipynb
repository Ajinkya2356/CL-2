{
 "cells": [
  {
   "cell_type": "code",
   "execution_count": 54,
   "metadata": {},
   "outputs": [],
   "source": [
    "from qiskit import QuantumCircuit\n",
    "from qiskit_aer import Aer,noise\n",
    "from qiskit.visualization import plot_histogram \n",
    "import matplotlib.pyplot as plt"
   ]
  },
  {
   "cell_type": "code",
   "execution_count": 55,
   "metadata": {},
   "outputs": [],
   "source": [
    "qc = QuantumCircuit(3,1)"
   ]
  },
  {
   "cell_type": "code",
   "execution_count": 56,
   "metadata": {},
   "outputs": [
    {
     "name": "stdout",
     "output_type": "stream",
     "text": [
      "     \n",
      "q_0: \n",
      "     \n",
      "q_1: \n",
      "     \n",
      "q_2: \n",
      "     \n",
      "c: 1/\n",
      "     \n"
     ]
    }
   ],
   "source": [
    "print(qc)"
   ]
  },
  {
   "cell_type": "code",
   "execution_count": 57,
   "metadata": {},
   "outputs": [
    {
     "name": "stdout",
     "output_type": "stream",
     "text": [
      "     ┌───┐           ░ \n",
      "q_0: ┤ H ├──■────────░─\n",
      "     └───┘┌─┴─┐      ░ \n",
      "q_1: ─────┤ X ├──■───░─\n",
      "          └───┘┌─┴─┐ ░ \n",
      "q_2: ──────────┤ X ├─░─\n",
      "               └───┘ ░ \n",
      "c: 1/══════════════════\n",
      "                       \n"
     ]
    }
   ],
   "source": [
    "qc.h(0) # Hadamard gate on qubit 0\n",
    "qc.cx(0,1) # CNOT gate on control qubit 0 and target qubit 1\n",
    "qc.cx(1,2)\n",
    "qc.barrier()\n",
    "print(qc)"
   ]
  },
  {
   "cell_type": "code",
   "execution_count": 58,
   "metadata": {},
   "outputs": [
    {
     "name": "stdout",
     "output_type": "stream",
     "text": [
      "     ┌───┐           ░           ┌───┐ ░ \n",
      "q_0: ┤ H ├──■────────░───■───────┤ X ├─░─\n",
      "     └───┘┌─┴─┐      ░ ┌─┴─┐     └─┬─┘ ░ \n",
      "q_1: ─────┤ X ├──■───░─┤ X ├──■────■───░─\n",
      "          └───┘┌─┴─┐ ░ └───┘┌─┴─┐  │   ░ \n",
      "q_2: ──────────┤ X ├─░──────┤ X ├──■───░─\n",
      "               └───┘ ░      └───┘      ░ \n",
      "c: 1/════════════════════════════════════\n",
      "                                         \n"
     ]
    }
   ],
   "source": [
    "qc.cx(0,1)\n",
    "qc.cx(1,2)\n",
    "qc.ccx(1,2,0)\n",
    "qc.barrier()\n",
    "print(qc)"
   ]
  },
  {
   "cell_type": "code",
   "execution_count": 59,
   "metadata": {},
   "outputs": [
    {
     "data": {
      "text/plain": [
       "<qiskit.circuit.instructionset.InstructionSet at 0x1bf79d52500>"
      ]
     },
     "execution_count": 59,
     "metadata": {},
     "output_type": "execute_result"
    }
   ],
   "source": [
    "qc.measure(0,0)"
   ]
  },
  {
   "cell_type": "code",
   "execution_count": 60,
   "metadata": {},
   "outputs": [
    {
     "name": "stdout",
     "output_type": "stream",
     "text": [
      "     ┌───┐           ░           ┌───┐ ░ ┌─┐\n",
      "q_0: ┤ H ├──■────────░───■───────┤ X ├─░─┤M├\n",
      "     └───┘┌─┴─┐      ░ ┌─┴─┐     └─┬─┘ ░ └╥┘\n",
      "q_1: ─────┤ X ├──■───░─┤ X ├──■────■───░──╫─\n",
      "          └───┘┌─┴─┐ ░ └───┘┌─┴─┐  │   ░  ║ \n",
      "q_2: ──────────┤ X ├─░──────┤ X ├──■───░──╫─\n",
      "               └───┘ ░      └───┘      ░  ║ \n",
      "c: 1/═════════════════════════════════════╩═\n",
      "                                          0 \n"
     ]
    }
   ],
   "source": [
    "print(qc)"
   ]
  },
  {
   "cell_type": "code",
   "execution_count": 61,
   "metadata": {},
   "outputs": [],
   "source": [
    "noise_model = noise.NoiseModel()\n",
    "error_1 = noise.errors.depolarizing_error(0.1,1)\n",
    "error_2 = noise.errors.depolarizing_error(0.1,2)\n",
    "noise_model.add_all_qubit_quantum_error(error_1,['u1','u2','u3'])\n",
    "noise_model.add_all_qubit_quantum_error(error_2,['cx'])"
   ]
  },
  {
   "cell_type": "code",
   "execution_count": 62,
   "metadata": {},
   "outputs": [],
   "source": [
    "simulator = Aer.get_backend('qasm_simulator')\n",
    "result = simulator.run(qc,noise_model=noise_model,shots=1000).result()\n",
    "counts =  result.get_counts(qc)"
   ]
  },
  {
   "cell_type": "code",
   "execution_count": 63,
   "metadata": {},
   "outputs": [
    {
     "data": {
      "text/plain": [
       "{'0': 528, '1': 472}"
      ]
     },
     "execution_count": 63,
     "metadata": {},
     "output_type": "execute_result"
    }
   ],
   "source": [
    "counts"
   ]
  },
  {
   "cell_type": "code",
   "execution_count": 64,
   "metadata": {},
   "outputs": [
    {
     "name": "stdout",
     "output_type": "stream",
     "text": [
      "     ┌───┐           ░           ┌───┐ ░ ┌─┐\n",
      "q_0: ┤ H ├──■────────░───■───────┤ X ├─░─┤M├\n",
      "     └───┘┌─┴─┐      ░ ┌─┴─┐     └─┬─┘ ░ └╥┘\n",
      "q_1: ─────┤ X ├──■───░─┤ X ├──■────■───░──╫─\n",
      "          └───┘┌─┴─┐ ░ └───┘┌─┴─┐  │   ░  ║ \n",
      "q_2: ──────────┤ X ├─░──────┤ X ├──■───░──╫─\n",
      "               └───┘ ░      └───┘      ░  ║ \n",
      "c: 1/═════════════════════════════════════╩═\n",
      "                                          0 \n"
     ]
    }
   ],
   "source": [
    "print(qc)"
   ]
  },
  {
   "cell_type": "code",
   "execution_count": 65,
   "metadata": {},
   "outputs": [],
   "source": [
    "plot_histogram(counts)\n",
    "plt.show()"
   ]
  }
 ],
 "metadata": {
  "kernelspec": {
   "display_name": "myenv",
   "language": "python",
   "name": "python3"
  },
  "language_info": {
   "codemirror_mode": {
    "name": "ipython",
    "version": 3
   },
   "file_extension": ".py",
   "mimetype": "text/x-python",
   "name": "python",
   "nbconvert_exporter": "python",
   "pygments_lexer": "ipython3",
   "version": "3.12.3"
  }
 },
 "nbformat": 4,
 "nbformat_minor": 2
}
